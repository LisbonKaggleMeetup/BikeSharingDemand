{
  "nbformat": 4,
  "nbformat_minor": 0,
  "metadata": {
    "colab": {
      "name": "prep_bike_share.ipynb",
      "version": "0.3.2",
      "provenance": [],
      "include_colab_link": true
    },
    "kernelspec": {
      "display_name": "Python 3",
      "language": "python",
      "name": "python3"
    }
  },
  "cells": [
    {
      "cell_type": "markdown",
      "metadata": {
        "id": "view-in-github",
        "colab_type": "text"
      },
      "source": [
        "[View in Colaboratory](https://colab.research.google.com/github/LisbonKaggleMeetup/BikeSharingDemand/blob/master/notebooks/getting_started.ipynb)"
      ]
    },
    {
      "metadata": {
        "id": "RHmh3hnZ5xrB",
        "colab_type": "text"
      },
      "cell_type": "markdown",
      "source": [
        "# Download dataset (run only if you're using google colab!)"
      ]
    },
    {
      "metadata": {
        "id": "M294_QjGza9k",
        "colab_type": "code",
        "colab": {}
      },
      "cell_type": "code",
      "source": [
        "## This code imports the file from GDrive to the local VM\n",
        "##  It only needs to run once\n",
        "!pip install -U -q PyDrive\n",
        "from pydrive.auth import GoogleAuth\n",
        "from pydrive.drive import GoogleDrive\n",
        "from google.colab import auth\n",
        "from oauth2client.client import GoogleCredentials\n",
        "auth.authenticate_user()\n",
        "gauth = GoogleAuth()\n",
        "gauth.credentials = GoogleCredentials.get_application_default()\n",
        "drive = GoogleDrive(gauth)"
      ],
      "execution_count": 0,
      "outputs": []
    },
    {
      "metadata": {
        "id": "CKbo0zNazaZu",
        "colab_type": "code",
        "colab": {
          "base_uri": "https://localhost:8080/",
          "height": 85
        },
        "outputId": "8f41421d-f4a0-4adc-bdcc-5ff2f7816d4d"
      },
      "cell_type": "code",
      "source": [
        "# files to be imported in this format: (destination file path, file id)\n",
        "files = [('./data.zip', '13rzCJwt-V7xNlc2zGqpSLJinvtBq4uYQ')]\n",
        "\n",
        "# download and save each file in list \"files\"\n",
        "for file_dest, file_id in files:\n",
        "  downloaded = drive.CreateFile({'id': file_id})\n",
        "  content = downloaded.GetContentFile(file_dest)\n",
        "  \n",
        "!unzip data.zip -d ./data\n"
      ],
      "execution_count": 2,
      "outputs": [
        {
          "output_type": "stream",
          "text": [
            "Archive:  data.zip\n",
            "  inflating: ./data/test.csv         \n",
            "  inflating: ./data/train.csv        \n",
            "  inflating: ./data/sampleSubmission.csv  \n"
          ],
          "name": "stdout"
        }
      ]
    },
    {
      "metadata": {
        "id": "a1oKrdij45DS",
        "colab_type": "text"
      },
      "cell_type": "markdown",
      "source": [
        "# Bike sharing demand prediction challenge"
      ]
    },
    {
      "metadata": {
        "id": "PASwZn8owbpN",
        "colab_type": "text"
      },
      "cell_type": "markdown",
      "source": [
        "### Import libraries"
      ]
    },
    {
      "metadata": {
        "id": "YemYtTV_5Aio",
        "colab_type": "code",
        "colab": {}
      },
      "cell_type": "code",
      "source": [
        "import pandas as pd\n",
        "import numpy as np"
      ],
      "execution_count": 0,
      "outputs": []
    },
    {
      "metadata": {
        "id": "n1Kg885r5Dc3",
        "colab_type": "text"
      },
      "cell_type": "markdown",
      "source": [
        "### Load data"
      ]
    },
    {
      "metadata": {
        "id": "FR5YfVp-wbpS",
        "colab_type": "code",
        "colab": {}
      },
      "cell_type": "code",
      "source": [
        "train = pd.read_csv(\"data/train.csv\")\n",
        "train.datetime=pd.to_datetime(train.datetime)\n",
        "train = train.set_index(\"datetime\").sort_index().rename(columns={'count':'total'})"
      ],
      "execution_count": 0,
      "outputs": []
    },
    {
      "metadata": {
        "id": "DWRXb_rywbp-",
        "colab_type": "code",
        "colab": {
          "base_uri": "https://localhost:8080/",
          "height": 235
        },
        "outputId": "6643f01a-1ee4-43b5-83b3-e9b311e5998e"
      },
      "cell_type": "code",
      "source": [
        "train.head()"
      ],
      "execution_count": 9,
      "outputs": [
        {
          "output_type": "execute_result",
          "data": {
            "text/html": [
              "<div>\n",
              "<style scoped>\n",
              "    .dataframe tbody tr th:only-of-type {\n",
              "        vertical-align: middle;\n",
              "    }\n",
              "\n",
              "    .dataframe tbody tr th {\n",
              "        vertical-align: top;\n",
              "    }\n",
              "\n",
              "    .dataframe thead th {\n",
              "        text-align: right;\n",
              "    }\n",
              "</style>\n",
              "<table border=\"1\" class=\"dataframe\">\n",
              "  <thead>\n",
              "    <tr style=\"text-align: right;\">\n",
              "      <th></th>\n",
              "      <th>season</th>\n",
              "      <th>holiday</th>\n",
              "      <th>workingday</th>\n",
              "      <th>weather</th>\n",
              "      <th>temp</th>\n",
              "      <th>atemp</th>\n",
              "      <th>humidity</th>\n",
              "      <th>windspeed</th>\n",
              "      <th>casual</th>\n",
              "      <th>registered</th>\n",
              "      <th>total</th>\n",
              "    </tr>\n",
              "    <tr>\n",
              "      <th>datetime</th>\n",
              "      <th></th>\n",
              "      <th></th>\n",
              "      <th></th>\n",
              "      <th></th>\n",
              "      <th></th>\n",
              "      <th></th>\n",
              "      <th></th>\n",
              "      <th></th>\n",
              "      <th></th>\n",
              "      <th></th>\n",
              "      <th></th>\n",
              "    </tr>\n",
              "  </thead>\n",
              "  <tbody>\n",
              "    <tr>\n",
              "      <th>2011-01-01 00:00:00</th>\n",
              "      <td>1</td>\n",
              "      <td>0</td>\n",
              "      <td>0</td>\n",
              "      <td>1</td>\n",
              "      <td>9.84</td>\n",
              "      <td>14.395</td>\n",
              "      <td>81</td>\n",
              "      <td>0.0</td>\n",
              "      <td>3</td>\n",
              "      <td>13</td>\n",
              "      <td>16</td>\n",
              "    </tr>\n",
              "    <tr>\n",
              "      <th>2011-01-01 01:00:00</th>\n",
              "      <td>1</td>\n",
              "      <td>0</td>\n",
              "      <td>0</td>\n",
              "      <td>1</td>\n",
              "      <td>9.02</td>\n",
              "      <td>13.635</td>\n",
              "      <td>80</td>\n",
              "      <td>0.0</td>\n",
              "      <td>8</td>\n",
              "      <td>32</td>\n",
              "      <td>40</td>\n",
              "    </tr>\n",
              "    <tr>\n",
              "      <th>2011-01-01 02:00:00</th>\n",
              "      <td>1</td>\n",
              "      <td>0</td>\n",
              "      <td>0</td>\n",
              "      <td>1</td>\n",
              "      <td>9.02</td>\n",
              "      <td>13.635</td>\n",
              "      <td>80</td>\n",
              "      <td>0.0</td>\n",
              "      <td>5</td>\n",
              "      <td>27</td>\n",
              "      <td>32</td>\n",
              "    </tr>\n",
              "    <tr>\n",
              "      <th>2011-01-01 03:00:00</th>\n",
              "      <td>1</td>\n",
              "      <td>0</td>\n",
              "      <td>0</td>\n",
              "      <td>1</td>\n",
              "      <td>9.84</td>\n",
              "      <td>14.395</td>\n",
              "      <td>75</td>\n",
              "      <td>0.0</td>\n",
              "      <td>3</td>\n",
              "      <td>10</td>\n",
              "      <td>13</td>\n",
              "    </tr>\n",
              "    <tr>\n",
              "      <th>2011-01-01 04:00:00</th>\n",
              "      <td>1</td>\n",
              "      <td>0</td>\n",
              "      <td>0</td>\n",
              "      <td>1</td>\n",
              "      <td>9.84</td>\n",
              "      <td>14.395</td>\n",
              "      <td>75</td>\n",
              "      <td>0.0</td>\n",
              "      <td>0</td>\n",
              "      <td>1</td>\n",
              "      <td>1</td>\n",
              "    </tr>\n",
              "  </tbody>\n",
              "</table>\n",
              "</div>"
            ],
            "text/plain": [
              "                     season  holiday  workingday  weather  temp   atemp  \\\n",
              "datetime                                                                  \n",
              "2011-01-01 00:00:00       1        0           0        1  9.84  14.395   \n",
              "2011-01-01 01:00:00       1        0           0        1  9.02  13.635   \n",
              "2011-01-01 02:00:00       1        0           0        1  9.02  13.635   \n",
              "2011-01-01 03:00:00       1        0           0        1  9.84  14.395   \n",
              "2011-01-01 04:00:00       1        0           0        1  9.84  14.395   \n",
              "\n",
              "                     humidity  windspeed  casual  registered  total  \n",
              "datetime                                                             \n",
              "2011-01-01 00:00:00        81        0.0       3          13     16  \n",
              "2011-01-01 01:00:00        80        0.0       8          32     40  \n",
              "2011-01-01 02:00:00        80        0.0       5          27     32  \n",
              "2011-01-01 03:00:00        75        0.0       3          10     13  \n",
              "2011-01-01 04:00:00        75        0.0       0           1      1  "
            ]
          },
          "metadata": {
            "tags": []
          },
          "execution_count": 9
        }
      ]
    },
    {
      "metadata": {
        "id": "nHCoe1xv600S",
        "colab_type": "code",
        "colab": {
          "base_uri": "https://localhost:8080/",
          "height": 297
        },
        "outputId": "d3de4474-3068-4ba7-9864-da9c81a62ddc"
      },
      "cell_type": "code",
      "source": [
        "train.describe()"
      ],
      "execution_count": 10,
      "outputs": [
        {
          "output_type": "execute_result",
          "data": {
            "text/html": [
              "<div>\n",
              "<style scoped>\n",
              "    .dataframe tbody tr th:only-of-type {\n",
              "        vertical-align: middle;\n",
              "    }\n",
              "\n",
              "    .dataframe tbody tr th {\n",
              "        vertical-align: top;\n",
              "    }\n",
              "\n",
              "    .dataframe thead th {\n",
              "        text-align: right;\n",
              "    }\n",
              "</style>\n",
              "<table border=\"1\" class=\"dataframe\">\n",
              "  <thead>\n",
              "    <tr style=\"text-align: right;\">\n",
              "      <th></th>\n",
              "      <th>season</th>\n",
              "      <th>holiday</th>\n",
              "      <th>workingday</th>\n",
              "      <th>weather</th>\n",
              "      <th>temp</th>\n",
              "      <th>atemp</th>\n",
              "      <th>humidity</th>\n",
              "      <th>windspeed</th>\n",
              "      <th>casual</th>\n",
              "      <th>registered</th>\n",
              "      <th>total</th>\n",
              "    </tr>\n",
              "  </thead>\n",
              "  <tbody>\n",
              "    <tr>\n",
              "      <th>count</th>\n",
              "      <td>10886.000000</td>\n",
              "      <td>10886.000000</td>\n",
              "      <td>10886.000000</td>\n",
              "      <td>10886.000000</td>\n",
              "      <td>10886.00000</td>\n",
              "      <td>10886.000000</td>\n",
              "      <td>10886.000000</td>\n",
              "      <td>10886.000000</td>\n",
              "      <td>10886.000000</td>\n",
              "      <td>10886.000000</td>\n",
              "      <td>10886.000000</td>\n",
              "    </tr>\n",
              "    <tr>\n",
              "      <th>mean</th>\n",
              "      <td>2.506614</td>\n",
              "      <td>0.028569</td>\n",
              "      <td>0.680875</td>\n",
              "      <td>1.418427</td>\n",
              "      <td>20.23086</td>\n",
              "      <td>23.655084</td>\n",
              "      <td>61.886460</td>\n",
              "      <td>12.799395</td>\n",
              "      <td>36.021955</td>\n",
              "      <td>155.552177</td>\n",
              "      <td>191.574132</td>\n",
              "    </tr>\n",
              "    <tr>\n",
              "      <th>std</th>\n",
              "      <td>1.116174</td>\n",
              "      <td>0.166599</td>\n",
              "      <td>0.466159</td>\n",
              "      <td>0.633839</td>\n",
              "      <td>7.79159</td>\n",
              "      <td>8.474601</td>\n",
              "      <td>19.245033</td>\n",
              "      <td>8.164537</td>\n",
              "      <td>49.960477</td>\n",
              "      <td>151.039033</td>\n",
              "      <td>181.144454</td>\n",
              "    </tr>\n",
              "    <tr>\n",
              "      <th>min</th>\n",
              "      <td>1.000000</td>\n",
              "      <td>0.000000</td>\n",
              "      <td>0.000000</td>\n",
              "      <td>1.000000</td>\n",
              "      <td>0.82000</td>\n",
              "      <td>0.760000</td>\n",
              "      <td>0.000000</td>\n",
              "      <td>0.000000</td>\n",
              "      <td>0.000000</td>\n",
              "      <td>0.000000</td>\n",
              "      <td>1.000000</td>\n",
              "    </tr>\n",
              "    <tr>\n",
              "      <th>25%</th>\n",
              "      <td>2.000000</td>\n",
              "      <td>0.000000</td>\n",
              "      <td>0.000000</td>\n",
              "      <td>1.000000</td>\n",
              "      <td>13.94000</td>\n",
              "      <td>16.665000</td>\n",
              "      <td>47.000000</td>\n",
              "      <td>7.001500</td>\n",
              "      <td>4.000000</td>\n",
              "      <td>36.000000</td>\n",
              "      <td>42.000000</td>\n",
              "    </tr>\n",
              "    <tr>\n",
              "      <th>50%</th>\n",
              "      <td>3.000000</td>\n",
              "      <td>0.000000</td>\n",
              "      <td>1.000000</td>\n",
              "      <td>1.000000</td>\n",
              "      <td>20.50000</td>\n",
              "      <td>24.240000</td>\n",
              "      <td>62.000000</td>\n",
              "      <td>12.998000</td>\n",
              "      <td>17.000000</td>\n",
              "      <td>118.000000</td>\n",
              "      <td>145.000000</td>\n",
              "    </tr>\n",
              "    <tr>\n",
              "      <th>75%</th>\n",
              "      <td>4.000000</td>\n",
              "      <td>0.000000</td>\n",
              "      <td>1.000000</td>\n",
              "      <td>2.000000</td>\n",
              "      <td>26.24000</td>\n",
              "      <td>31.060000</td>\n",
              "      <td>77.000000</td>\n",
              "      <td>16.997900</td>\n",
              "      <td>49.000000</td>\n",
              "      <td>222.000000</td>\n",
              "      <td>284.000000</td>\n",
              "    </tr>\n",
              "    <tr>\n",
              "      <th>max</th>\n",
              "      <td>4.000000</td>\n",
              "      <td>1.000000</td>\n",
              "      <td>1.000000</td>\n",
              "      <td>4.000000</td>\n",
              "      <td>41.00000</td>\n",
              "      <td>45.455000</td>\n",
              "      <td>100.000000</td>\n",
              "      <td>56.996900</td>\n",
              "      <td>367.000000</td>\n",
              "      <td>886.000000</td>\n",
              "      <td>977.000000</td>\n",
              "    </tr>\n",
              "  </tbody>\n",
              "</table>\n",
              "</div>"
            ],
            "text/plain": [
              "             season       holiday    workingday       weather         temp  \\\n",
              "count  10886.000000  10886.000000  10886.000000  10886.000000  10886.00000   \n",
              "mean       2.506614      0.028569      0.680875      1.418427     20.23086   \n",
              "std        1.116174      0.166599      0.466159      0.633839      7.79159   \n",
              "min        1.000000      0.000000      0.000000      1.000000      0.82000   \n",
              "25%        2.000000      0.000000      0.000000      1.000000     13.94000   \n",
              "50%        3.000000      0.000000      1.000000      1.000000     20.50000   \n",
              "75%        4.000000      0.000000      1.000000      2.000000     26.24000   \n",
              "max        4.000000      1.000000      1.000000      4.000000     41.00000   \n",
              "\n",
              "              atemp      humidity     windspeed        casual    registered  \\\n",
              "count  10886.000000  10886.000000  10886.000000  10886.000000  10886.000000   \n",
              "mean      23.655084     61.886460     12.799395     36.021955    155.552177   \n",
              "std        8.474601     19.245033      8.164537     49.960477    151.039033   \n",
              "min        0.760000      0.000000      0.000000      0.000000      0.000000   \n",
              "25%       16.665000     47.000000      7.001500      4.000000     36.000000   \n",
              "50%       24.240000     62.000000     12.998000     17.000000    118.000000   \n",
              "75%       31.060000     77.000000     16.997900     49.000000    222.000000   \n",
              "max       45.455000    100.000000     56.996900    367.000000    886.000000   \n",
              "\n",
              "              total  \n",
              "count  10886.000000  \n",
              "mean     191.574132  \n",
              "std      181.144454  \n",
              "min        1.000000  \n",
              "25%       42.000000  \n",
              "50%      145.000000  \n",
              "75%      284.000000  \n",
              "max      977.000000  "
            ]
          },
          "metadata": {
            "tags": []
          },
          "execution_count": 10
        }
      ]
    },
    {
      "metadata": {
        "id": "VHltkzo3sX9d",
        "colab_type": "text"
      },
      "cell_type": "markdown",
      "source": [
        "# Data Preparation\n",
        "## Missing values"
      ]
    },
    {
      "metadata": {
        "id": "UoC9xwjAsa70",
        "colab_type": "code",
        "colab": {
          "base_uri": "https://localhost:8080/",
          "height": 221
        },
        "outputId": "0aff568c-f268-4ab4-aa0a-0d5a4d1c9a96"
      },
      "cell_type": "code",
      "source": [
        "train.isna().sum()"
      ],
      "execution_count": 17,
      "outputs": [
        {
          "output_type": "execute_result",
          "data": {
            "text/plain": [
              "season        0\n",
              "holiday       0\n",
              "workingday    0\n",
              "weather       0\n",
              "temp          0\n",
              "atemp         0\n",
              "humidity      0\n",
              "windspeed     0\n",
              "casual        0\n",
              "registered    0\n",
              "total         0\n",
              "dtype: int64"
            ]
          },
          "metadata": {
            "tags": []
          },
          "execution_count": 17
        }
      ]
    },
    {
      "metadata": {
        "id": "UbAAOOx9suRK",
        "colab_type": "text"
      },
      "cell_type": "markdown",
      "source": [
        "At first sight it seems there are no missing values.  \n",
        "However if we count the number of records available in the first 20 days of January we should get 20*24=480. Instead we have:"
      ]
    },
    {
      "metadata": {
        "id": "GisGU8sJvAZj",
        "colab_type": "code",
        "colab": {
          "base_uri": "https://localhost:8080/",
          "height": 238
        },
        "outputId": "f1d1d705-2b3b-4811-c7bf-b77d21456242"
      },
      "cell_type": "code",
      "source": [
        "train[:'2011-01-20'].count()"
      ],
      "execution_count": 38,
      "outputs": [
        {
          "output_type": "execute_result",
          "data": {
            "text/plain": [
              "season        431\n",
              "holiday       431\n",
              "workingday    431\n",
              "weather       431\n",
              "temp          431\n",
              "atemp         431\n",
              "humidity      431\n",
              "windspeed     431\n",
              "casual        431\n",
              "registered    431\n",
              "total         431\n",
              "weekday       431\n",
              "dtype: int64"
            ]
          },
          "metadata": {
            "tags": []
          },
          "execution_count": 38
        }
      ]
    },
    {
      "metadata": {
        "id": "TPurroeyvJgb",
        "colab_type": "text"
      },
      "cell_type": "markdown",
      "source": [
        "For some reason there are ~50 missing records!!\n",
        "\n",
        "To visualize this we can count the number of records per day with the *resample* method. Note that if no data were missing we'd obtain the value 24 everywhere..."
      ]
    },
    {
      "metadata": {
        "id": "w6l_1zCPvQZW",
        "colab_type": "code",
        "colab": {
          "base_uri": "https://localhost:8080/",
          "height": 374
        },
        "outputId": "e231adff-11b3-41f9-b5a9-6a3ac6916b4c"
      },
      "cell_type": "code",
      "source": [
        "train_copy = train.copy()\n",
        "train_copy['1']=1\n",
        "train_copy.resample('D')\n",
        "train_copy[:'2011-01-20'].resample('D').count()['1'].plot(figsize=(20,5),style='o')"
      ],
      "execution_count": 66,
      "outputs": [
        {
          "output_type": "execute_result",
          "data": {
            "text/plain": [
              "<matplotlib.axes._subplots.AxesSubplot at 0x7ff5dbf8de80>"
            ]
          },
          "metadata": {
            "tags": []
          },
          "execution_count": 66
        },
        {
          "output_type": "display_data",
          "data": {
            "image/png": "[encoded data removed]",
            "text/plain": [
              "<matplotlib.figure.Figure at 0x7ff5dbf9fa90>"
            ]
          },
          "metadata": {
            "tags": []
          }
        }
      ]
    },
    {
      "metadata": {
        "id": "Muhdt_c-xn0H",
        "colab_type": "text"
      },
      "cell_type": "markdown",
      "source": [
        "Wow that's lots of days with missing records. According to this on the 18th of January there's only data for half the day, let's confirm:"
      ]
    },
    {
      "metadata": {
        "id": "f0z6rekLx2D8",
        "colab_type": "code",
        "colab": {
          "base_uri": "https://localhost:8080/",
          "height": 452
        },
        "outputId": "c749f5e2-2f53-480a-fc39-d7b9be1dca3f"
      },
      "cell_type": "code",
      "source": [
        "train[\"2011-01-18\"]"
      ],
      "execution_count": 67,
      "outputs": [
        {
          "output_type": "execute_result",
          "data": {
            "text/html": [
              "<div>\n",
              "<style scoped>\n",
              "    .dataframe tbody tr th:only-of-type {\n",
              "        vertical-align: middle;\n",
              "    }\n",
              "\n",
              "    .dataframe tbody tr th {\n",
              "        vertical-align: top;\n",
              "    }\n",
              "\n",
              "    .dataframe thead th {\n",
              "        text-align: right;\n",
              "    }\n",
              "</style>\n",
              "<table border=\"1\" class=\"dataframe\">\n",
              "  <thead>\n",
              "    <tr style=\"text-align: right;\">\n",
              "      <th></th>\n",
              "      <th>season</th>\n",
              "      <th>holiday</th>\n",
              "      <th>workingday</th>\n",
              "      <th>weather</th>\n",
              "      <th>temp</th>\n",
              "      <th>atemp</th>\n",
              "      <th>humidity</th>\n",
              "      <th>windspeed</th>\n",
              "      <th>casual</th>\n",
              "      <th>registered</th>\n",
              "      <th>total</th>\n",
              "      <th>weekday</th>\n",
              "    </tr>\n",
              "    <tr>\n",
              "      <th>datetime</th>\n",
              "      <th></th>\n",
              "      <th></th>\n",
              "      <th></th>\n",
              "      <th></th>\n",
              "      <th></th>\n",
              "      <th></th>\n",
              "      <th></th>\n",
              "      <th></th>\n",
              "      <th></th>\n",
              "      <th></th>\n",
              "      <th></th>\n",
              "      <th></th>\n",
              "    </tr>\n",
              "  </thead>\n",
              "  <tbody>\n",
              "    <tr>\n",
              "      <th>2011-01-18 12:00:00</th>\n",
              "      <td>1</td>\n",
              "      <td>0</td>\n",
              "      <td>1</td>\n",
              "      <td>2</td>\n",
              "      <td>8.20</td>\n",
              "      <td>9.090</td>\n",
              "      <td>86</td>\n",
              "      <td>22.0028</td>\n",
              "      <td>0</td>\n",
              "      <td>3</td>\n",
              "      <td>3</td>\n",
              "      <td>Tuesday</td>\n",
              "    </tr>\n",
              "    <tr>\n",
              "      <th>2011-01-18 13:00:00</th>\n",
              "      <td>1</td>\n",
              "      <td>0</td>\n",
              "      <td>1</td>\n",
              "      <td>2</td>\n",
              "      <td>8.20</td>\n",
              "      <td>9.850</td>\n",
              "      <td>86</td>\n",
              "      <td>15.0013</td>\n",
              "      <td>0</td>\n",
              "      <td>22</td>\n",
              "      <td>22</td>\n",
              "      <td>Tuesday</td>\n",
              "    </tr>\n",
              "    <tr>\n",
              "      <th>2011-01-18 14:00:00</th>\n",
              "      <td>1</td>\n",
              "      <td>0</td>\n",
              "      <td>1</td>\n",
              "      <td>2</td>\n",
              "      <td>9.02</td>\n",
              "      <td>11.365</td>\n",
              "      <td>80</td>\n",
              "      <td>11.0014</td>\n",
              "      <td>2</td>\n",
              "      <td>26</td>\n",
              "      <td>28</td>\n",
              "      <td>Tuesday</td>\n",
              "    </tr>\n",
              "    <tr>\n",
              "      <th>2011-01-18 15:00:00</th>\n",
              "      <td>1</td>\n",
              "      <td>0</td>\n",
              "      <td>1</td>\n",
              "      <td>2</td>\n",
              "      <td>9.02</td>\n",
              "      <td>11.365</td>\n",
              "      <td>87</td>\n",
              "      <td>11.0014</td>\n",
              "      <td>3</td>\n",
              "      <td>32</td>\n",
              "      <td>35</td>\n",
              "      <td>Tuesday</td>\n",
              "    </tr>\n",
              "    <tr>\n",
              "      <th>2011-01-18 16:00:00</th>\n",
              "      <td>1</td>\n",
              "      <td>0</td>\n",
              "      <td>1</td>\n",
              "      <td>2</td>\n",
              "      <td>9.02</td>\n",
              "      <td>11.365</td>\n",
              "      <td>87</td>\n",
              "      <td>12.9980</td>\n",
              "      <td>0</td>\n",
              "      <td>61</td>\n",
              "      <td>61</td>\n",
              "      <td>Tuesday</td>\n",
              "    </tr>\n",
              "    <tr>\n",
              "      <th>2011-01-18 17:00:00</th>\n",
              "      <td>1</td>\n",
              "      <td>0</td>\n",
              "      <td>1</td>\n",
              "      <td>2</td>\n",
              "      <td>9.02</td>\n",
              "      <td>11.365</td>\n",
              "      <td>82</td>\n",
              "      <td>12.9980</td>\n",
              "      <td>1</td>\n",
              "      <td>124</td>\n",
              "      <td>125</td>\n",
              "      <td>Tuesday</td>\n",
              "    </tr>\n",
              "    <tr>\n",
              "      <th>2011-01-18 18:00:00</th>\n",
              "      <td>1</td>\n",
              "      <td>0</td>\n",
              "      <td>1</td>\n",
              "      <td>2</td>\n",
              "      <td>9.02</td>\n",
              "      <td>11.365</td>\n",
              "      <td>80</td>\n",
              "      <td>11.0014</td>\n",
              "      <td>1</td>\n",
              "      <td>132</td>\n",
              "      <td>133</td>\n",
              "      <td>Tuesday</td>\n",
              "    </tr>\n",
              "    <tr>\n",
              "      <th>2011-01-18 19:00:00</th>\n",
              "      <td>1</td>\n",
              "      <td>0</td>\n",
              "      <td>1</td>\n",
              "      <td>2</td>\n",
              "      <td>9.02</td>\n",
              "      <td>11.365</td>\n",
              "      <td>80</td>\n",
              "      <td>8.9981</td>\n",
              "      <td>1</td>\n",
              "      <td>98</td>\n",
              "      <td>99</td>\n",
              "      <td>Tuesday</td>\n",
              "    </tr>\n",
              "    <tr>\n",
              "      <th>2011-01-18 20:00:00</th>\n",
              "      <td>1</td>\n",
              "      <td>0</td>\n",
              "      <td>1</td>\n",
              "      <td>2</td>\n",
              "      <td>9.02</td>\n",
              "      <td>13.635</td>\n",
              "      <td>87</td>\n",
              "      <td>0.0000</td>\n",
              "      <td>0</td>\n",
              "      <td>83</td>\n",
              "      <td>83</td>\n",
              "      <td>Tuesday</td>\n",
              "    </tr>\n",
              "    <tr>\n",
              "      <th>2011-01-18 21:00:00</th>\n",
              "      <td>1</td>\n",
              "      <td>0</td>\n",
              "      <td>1</td>\n",
              "      <td>2</td>\n",
              "      <td>9.02</td>\n",
              "      <td>12.120</td>\n",
              "      <td>93</td>\n",
              "      <td>7.0015</td>\n",
              "      <td>0</td>\n",
              "      <td>41</td>\n",
              "      <td>41</td>\n",
              "      <td>Tuesday</td>\n",
              "    </tr>\n",
              "    <tr>\n",
              "      <th>2011-01-18 22:00:00</th>\n",
              "      <td>1</td>\n",
              "      <td>0</td>\n",
              "      <td>1</td>\n",
              "      <td>2</td>\n",
              "      <td>9.02</td>\n",
              "      <td>12.880</td>\n",
              "      <td>93</td>\n",
              "      <td>6.0032</td>\n",
              "      <td>0</td>\n",
              "      <td>33</td>\n",
              "      <td>33</td>\n",
              "      <td>Tuesday</td>\n",
              "    </tr>\n",
              "    <tr>\n",
              "      <th>2011-01-18 23:00:00</th>\n",
              "      <td>1</td>\n",
              "      <td>0</td>\n",
              "      <td>1</td>\n",
              "      <td>2</td>\n",
              "      <td>9.02</td>\n",
              "      <td>13.635</td>\n",
              "      <td>93</td>\n",
              "      <td>0.0000</td>\n",
              "      <td>1</td>\n",
              "      <td>19</td>\n",
              "      <td>20</td>\n",
              "      <td>Tuesday</td>\n",
              "    </tr>\n",
              "  </tbody>\n",
              "</table>\n",
              "</div>"
            ],
            "text/plain": [
              "                     season  holiday  workingday  weather  temp   atemp  \\\n",
              "datetime                                                                  \n",
              "2011-01-18 12:00:00       1        0           1        2  8.20   9.090   \n",
              "2011-01-18 13:00:00       1        0           1        2  8.20   9.850   \n",
              "2011-01-18 14:00:00       1        0           1        2  9.02  11.365   \n",
              "2011-01-18 15:00:00       1        0           1        2  9.02  11.365   \n",
              "2011-01-18 16:00:00       1        0           1        2  9.02  11.365   \n",
              "2011-01-18 17:00:00       1        0           1        2  9.02  11.365   \n",
              "2011-01-18 18:00:00       1        0           1        2  9.02  11.365   \n",
              "2011-01-18 19:00:00       1        0           1        2  9.02  11.365   \n",
              "2011-01-18 20:00:00       1        0           1        2  9.02  13.635   \n",
              "2011-01-18 21:00:00       1        0           1        2  9.02  12.120   \n",
              "2011-01-18 22:00:00       1        0           1        2  9.02  12.880   \n",
              "2011-01-18 23:00:00       1        0           1        2  9.02  13.635   \n",
              "\n",
              "                     humidity  windspeed  casual  registered  total  weekday  \n",
              "datetime                                                                      \n",
              "2011-01-18 12:00:00        86    22.0028       0           3      3  Tuesday  \n",
              "2011-01-18 13:00:00        86    15.0013       0          22     22  Tuesday  \n",
              "2011-01-18 14:00:00        80    11.0014       2          26     28  Tuesday  \n",
              "2011-01-18 15:00:00        87    11.0014       3          32     35  Tuesday  \n",
              "2011-01-18 16:00:00        87    12.9980       0          61     61  Tuesday  \n",
              "2011-01-18 17:00:00        82    12.9980       1         124    125  Tuesday  \n",
              "2011-01-18 18:00:00        80    11.0014       1         132    133  Tuesday  \n",
              "2011-01-18 19:00:00        80     8.9981       1          98     99  Tuesday  \n",
              "2011-01-18 20:00:00        87     0.0000       0          83     83  Tuesday  \n",
              "2011-01-18 21:00:00        93     7.0015       0          41     41  Tuesday  \n",
              "2011-01-18 22:00:00        93     6.0032       0          33     33  Tuesday  \n",
              "2011-01-18 23:00:00        93     0.0000       1          19     20  Tuesday  "
            ]
          },
          "metadata": {
            "tags": []
          },
          "execution_count": 67
        }
      ]
    },
    {
      "metadata": {
        "id": "Y738RhCwyOs_",
        "colab_type": "text"
      },
      "cell_type": "markdown",
      "source": [
        "![oh_snap](https://media.giphy.com/media/ljoB50Kfk3ubm/giphy.gif \"snap\")"
      ]
    },
    {
      "metadata": {
        "id": "WXUpQCZRsVSD",
        "colab_type": "text"
      },
      "cell_type": "markdown",
      "source": [
        "# Feature engineering"
      ]
    },
    {
      "metadata": {
        "id": "ufdDuq0UtAFB",
        "colab_type": "text"
      },
      "cell_type": "markdown",
      "source": [
        "Add column with the week day"
      ]
    },
    {
      "metadata": {
        "id": "Jm0okhXhsqU9",
        "colab_type": "code",
        "colab": {}
      },
      "cell_type": "code",
      "source": [
        "train['weekday'] = train.index.weekday_name"
      ],
      "execution_count": 0,
      "outputs": []
    },
    {
      "metadata": {
        "id": "h0syVlXGsrNT",
        "colab_type": "text"
      },
      "cell_type": "markdown",
      "source": [
        "# Data exploration"
      ]
    },
    {
      "metadata": {
        "id": "pzGGOzNctF0l",
        "colab_type": "text"
      },
      "cell_type": "markdown",
      "source": [
        "Let's start by analysing a sample of the data: the total demand during first 3 weeks of March 2011"
      ]
    },
    {
      "metadata": {
        "id": "jPnUIZwutgUP",
        "colab_type": "code",
        "colab": {
          "base_uri": "https://localhost:8080/",
          "height": 669
        },
        "outputId": "5d35ccc0-5d68-41e8-e20a-fc0dda1f82ad"
      },
      "cell_type": "code",
      "source": [
        "train[\"2011-03-01\":\"2011-03-21\"].resample('D').sum()"
      ],
      "execution_count": 27,
      "outputs": [
        {
          "output_type": "execute_result",
          "data": {
            "text/html": [
              "<div>\n",
              "<style scoped>\n",
              "    .dataframe tbody tr th:only-of-type {\n",
              "        vertical-align: middle;\n",
              "    }\n",
              "\n",
              "    .dataframe tbody tr th {\n",
              "        vertical-align: top;\n",
              "    }\n",
              "\n",
              "    .dataframe thead th {\n",
              "        text-align: right;\n",
              "    }\n",
              "</style>\n",
              "<table border=\"1\" class=\"dataframe\">\n",
              "  <thead>\n",
              "    <tr style=\"text-align: right;\">\n",
              "      <th></th>\n",
              "      <th>season</th>\n",
              "      <th>holiday</th>\n",
              "      <th>workingday</th>\n",
              "      <th>weather</th>\n",
              "      <th>temp</th>\n",
              "      <th>atemp</th>\n",
              "      <th>humidity</th>\n",
              "      <th>windspeed</th>\n",
              "      <th>casual</th>\n",
              "      <th>registered</th>\n",
              "      <th>total</th>\n",
              "    </tr>\n",
              "    <tr>\n",
              "      <th>datetime</th>\n",
              "      <th></th>\n",
              "      <th></th>\n",
              "      <th></th>\n",
              "      <th></th>\n",
              "      <th></th>\n",
              "      <th></th>\n",
              "      <th></th>\n",
              "      <th></th>\n",
              "      <th></th>\n",
              "      <th></th>\n",
              "      <th></th>\n",
              "    </tr>\n",
              "  </thead>\n",
              "  <tbody>\n",
              "    <tr>\n",
              "      <th>2011-03-01</th>\n",
              "      <td>24</td>\n",
              "      <td>0</td>\n",
              "      <td>24</td>\n",
              "      <td>24</td>\n",
              "      <td>262.40</td>\n",
              "      <td>316.655</td>\n",
              "      <td>1284</td>\n",
              "      <td>348.0114</td>\n",
              "      <td>137</td>\n",
              "      <td>1714</td>\n",
              "      <td>1851</td>\n",
              "    </tr>\n",
              "    <tr>\n",
              "      <th>2011-03-02</th>\n",
              "      <td>24</td>\n",
              "      <td>0</td>\n",
              "      <td>24</td>\n",
              "      <td>24</td>\n",
              "      <td>329.64</td>\n",
              "      <td>384.085</td>\n",
              "      <td>1079</td>\n",
              "      <td>494.9960</td>\n",
              "      <td>231</td>\n",
              "      <td>1903</td>\n",
              "      <td>2134</td>\n",
              "    </tr>\n",
              "    <tr>\n",
              "      <th>2011-03-03</th>\n",
              "      <td>24</td>\n",
              "      <td>0</td>\n",
              "      <td>24</td>\n",
              "      <td>25</td>\n",
              "      <td>195.16</td>\n",
              "      <td>240.160</td>\n",
              "      <td>764</td>\n",
              "      <td>363.0127</td>\n",
              "      <td>123</td>\n",
              "      <td>1562</td>\n",
              "      <td>1685</td>\n",
              "    </tr>\n",
              "    <tr>\n",
              "      <th>2011-03-04</th>\n",
              "      <td>24</td>\n",
              "      <td>0</td>\n",
              "      <td>24</td>\n",
              "      <td>36</td>\n",
              "      <td>257.48</td>\n",
              "      <td>306.815</td>\n",
              "      <td>1465</td>\n",
              "      <td>326.9801</td>\n",
              "      <td>214</td>\n",
              "      <td>1730</td>\n",
              "      <td>1944</td>\n",
              "    </tr>\n",
              "    <tr>\n",
              "      <th>2011-03-05</th>\n",
              "      <td>24</td>\n",
              "      <td>0</td>\n",
              "      <td>0</td>\n",
              "      <td>48</td>\n",
              "      <td>378.02</td>\n",
              "      <td>454.535</td>\n",
              "      <td>1894</td>\n",
              "      <td>405.0083</td>\n",
              "      <td>640</td>\n",
              "      <td>1437</td>\n",
              "      <td>2077</td>\n",
              "    </tr>\n",
              "    <tr>\n",
              "      <th>2011-03-06</th>\n",
              "      <td>23</td>\n",
              "      <td>0</td>\n",
              "      <td>0</td>\n",
              "      <td>55</td>\n",
              "      <td>355.06</td>\n",
              "      <td>421.190</td>\n",
              "      <td>2181</td>\n",
              "      <td>529.0052</td>\n",
              "      <td>114</td>\n",
              "      <td>491</td>\n",
              "      <td>605</td>\n",
              "    </tr>\n",
              "    <tr>\n",
              "      <th>2011-03-07</th>\n",
              "      <td>23</td>\n",
              "      <td>0</td>\n",
              "      <td>23</td>\n",
              "      <td>27</td>\n",
              "      <td>246.82</td>\n",
              "      <td>274.230</td>\n",
              "      <td>1268</td>\n",
              "      <td>526.0237</td>\n",
              "      <td>244</td>\n",
              "      <td>1628</td>\n",
              "      <td>1872</td>\n",
              "    </tr>\n",
              "    <tr>\n",
              "      <th>2011-03-08</th>\n",
              "      <td>24</td>\n",
              "      <td>0</td>\n",
              "      <td>24</td>\n",
              "      <td>30</td>\n",
              "      <td>287.82</td>\n",
              "      <td>362.880</td>\n",
              "      <td>1010</td>\n",
              "      <td>194.0052</td>\n",
              "      <td>316</td>\n",
              "      <td>1817</td>\n",
              "      <td>2133</td>\n",
              "    </tr>\n",
              "    <tr>\n",
              "      <th>2011-03-09</th>\n",
              "      <td>24</td>\n",
              "      <td>0</td>\n",
              "      <td>24</td>\n",
              "      <td>45</td>\n",
              "      <td>291.10</td>\n",
              "      <td>343.930</td>\n",
              "      <td>1861</td>\n",
              "      <td>354.0012</td>\n",
              "      <td>191</td>\n",
              "      <td>1700</td>\n",
              "      <td>1891</td>\n",
              "    </tr>\n",
              "    <tr>\n",
              "      <th>2011-03-10</th>\n",
              "      <td>22</td>\n",
              "      <td>0</td>\n",
              "      <td>22</td>\n",
              "      <td>64</td>\n",
              "      <td>350.96</td>\n",
              "      <td>424.235</td>\n",
              "      <td>0</td>\n",
              "      <td>386.0071</td>\n",
              "      <td>46</td>\n",
              "      <td>577</td>\n",
              "      <td>623</td>\n",
              "    </tr>\n",
              "    <tr>\n",
              "      <th>2011-03-11</th>\n",
              "      <td>23</td>\n",
              "      <td>0</td>\n",
              "      <td>23</td>\n",
              "      <td>37</td>\n",
              "      <td>298.48</td>\n",
              "      <td>350.750</td>\n",
              "      <td>1494</td>\n",
              "      <td>359.0061</td>\n",
              "      <td>247</td>\n",
              "      <td>1730</td>\n",
              "      <td>1977</td>\n",
              "    </tr>\n",
              "    <tr>\n",
              "      <th>2011-03-12</th>\n",
              "      <td>24</td>\n",
              "      <td>0</td>\n",
              "      <td>0</td>\n",
              "      <td>24</td>\n",
              "      <td>323.90</td>\n",
              "      <td>390.900</td>\n",
              "      <td>1427</td>\n",
              "      <td>355.0062</td>\n",
              "      <td>724</td>\n",
              "      <td>1408</td>\n",
              "      <td>2132</td>\n",
              "    </tr>\n",
              "    <tr>\n",
              "      <th>2011-03-13</th>\n",
              "      <td>23</td>\n",
              "      <td>0</td>\n",
              "      <td>0</td>\n",
              "      <td>23</td>\n",
              "      <td>362.44</td>\n",
              "      <td>437.105</td>\n",
              "      <td>1213</td>\n",
              "      <td>417.0013</td>\n",
              "      <td>982</td>\n",
              "      <td>1435</td>\n",
              "      <td>2417</td>\n",
              "    </tr>\n",
              "    <tr>\n",
              "      <th>2011-03-14</th>\n",
              "      <td>23</td>\n",
              "      <td>0</td>\n",
              "      <td>23</td>\n",
              "      <td>26</td>\n",
              "      <td>306.68</td>\n",
              "      <td>381.800</td>\n",
              "      <td>1143</td>\n",
              "      <td>211.0031</td>\n",
              "      <td>359</td>\n",
              "      <td>1687</td>\n",
              "      <td>2046</td>\n",
              "    </tr>\n",
              "    <tr>\n",
              "      <th>2011-03-15</th>\n",
              "      <td>23</td>\n",
              "      <td>0</td>\n",
              "      <td>23</td>\n",
              "      <td>39</td>\n",
              "      <td>299.30</td>\n",
              "      <td>365.905</td>\n",
              "      <td>1508</td>\n",
              "      <td>284.0197</td>\n",
              "      <td>289</td>\n",
              "      <td>1767</td>\n",
              "      <td>2056</td>\n",
              "    </tr>\n",
              "    <tr>\n",
              "      <th>2011-03-16</th>\n",
              "      <td>23</td>\n",
              "      <td>0</td>\n",
              "      <td>23</td>\n",
              "      <td>47</td>\n",
              "      <td>344.40</td>\n",
              "      <td>421.970</td>\n",
              "      <td>1786</td>\n",
              "      <td>313.0039</td>\n",
              "      <td>321</td>\n",
              "      <td>1871</td>\n",
              "      <td>2192</td>\n",
              "    </tr>\n",
              "    <tr>\n",
              "      <th>2011-03-17</th>\n",
              "      <td>24</td>\n",
              "      <td>0</td>\n",
              "      <td>24</td>\n",
              "      <td>26</td>\n",
              "      <td>408.36</td>\n",
              "      <td>492.400</td>\n",
              "      <td>1447</td>\n",
              "      <td>337.0033</td>\n",
              "      <td>424</td>\n",
              "      <td>2320</td>\n",
              "      <td>2744</td>\n",
              "    </tr>\n",
              "    <tr>\n",
              "      <th>2011-03-18</th>\n",
              "      <td>23</td>\n",
              "      <td>0</td>\n",
              "      <td>23</td>\n",
              "      <td>26</td>\n",
              "      <td>509.22</td>\n",
              "      <td>606.060</td>\n",
              "      <td>1208</td>\n",
              "      <td>355.9978</td>\n",
              "      <td>884</td>\n",
              "      <td>2355</td>\n",
              "      <td>3239</td>\n",
              "    </tr>\n",
              "    <tr>\n",
              "      <th>2011-03-19</th>\n",
              "      <td>24</td>\n",
              "      <td>0</td>\n",
              "      <td>0</td>\n",
              "      <td>28</td>\n",
              "      <td>464.94</td>\n",
              "      <td>559.830</td>\n",
              "      <td>910</td>\n",
              "      <td>592.0120</td>\n",
              "      <td>1424</td>\n",
              "      <td>1693</td>\n",
              "      <td>3117</td>\n",
              "    </tr>\n",
              "  </tbody>\n",
              "</table>\n",
              "</div>"
            ],
            "text/plain": [
              "            season  holiday  workingday  weather    temp    atemp  humidity  \\\n",
              "datetime                                                                      \n",
              "2011-03-01      24        0          24       24  262.40  316.655      1284   \n",
              "2011-03-02      24        0          24       24  329.64  384.085      1079   \n",
              "2011-03-03      24        0          24       25  195.16  240.160       764   \n",
              "2011-03-04      24        0          24       36  257.48  306.815      1465   \n",
              "2011-03-05      24        0           0       48  378.02  454.535      1894   \n",
              "2011-03-06      23        0           0       55  355.06  421.190      2181   \n",
              "2011-03-07      23        0          23       27  246.82  274.230      1268   \n",
              "2011-03-08      24        0          24       30  287.82  362.880      1010   \n",
              "2011-03-09      24        0          24       45  291.10  343.930      1861   \n",
              "2011-03-10      22        0          22       64  350.96  424.235         0   \n",
              "2011-03-11      23        0          23       37  298.48  350.750      1494   \n",
              "2011-03-12      24        0           0       24  323.90  390.900      1427   \n",
              "2011-03-13      23        0           0       23  362.44  437.105      1213   \n",
              "2011-03-14      23        0          23       26  306.68  381.800      1143   \n",
              "2011-03-15      23        0          23       39  299.30  365.905      1508   \n",
              "2011-03-16      23        0          23       47  344.40  421.970      1786   \n",
              "2011-03-17      24        0          24       26  408.36  492.400      1447   \n",
              "2011-03-18      23        0          23       26  509.22  606.060      1208   \n",
              "2011-03-19      24        0           0       28  464.94  559.830       910   \n",
              "\n",
              "            windspeed  casual  registered  total  \n",
              "datetime                                          \n",
              "2011-03-01   348.0114     137        1714   1851  \n",
              "2011-03-02   494.9960     231        1903   2134  \n",
              "2011-03-03   363.0127     123        1562   1685  \n",
              "2011-03-04   326.9801     214        1730   1944  \n",
              "2011-03-05   405.0083     640        1437   2077  \n",
              "2011-03-06   529.0052     114         491    605  \n",
              "2011-03-07   526.0237     244        1628   1872  \n",
              "2011-03-08   194.0052     316        1817   2133  \n",
              "2011-03-09   354.0012     191        1700   1891  \n",
              "2011-03-10   386.0071      46         577    623  \n",
              "2011-03-11   359.0061     247        1730   1977  \n",
              "2011-03-12   355.0062     724        1408   2132  \n",
              "2011-03-13   417.0013     982        1435   2417  \n",
              "2011-03-14   211.0031     359        1687   2046  \n",
              "2011-03-15   284.0197     289        1767   2056  \n",
              "2011-03-16   313.0039     321        1871   2192  \n",
              "2011-03-17   337.0033     424        2320   2744  \n",
              "2011-03-18   355.9978     884        2355   3239  \n",
              "2011-03-19   592.0120    1424        1693   3117  "
            ]
          },
          "metadata": {
            "tags": []
          },
          "execution_count": 27
        }
      ]
    },
    {
      "metadata": {
        "id": "9O_9nbnJ5VzU",
        "colab_type": "code",
        "colab": {
          "base_uri": "https://localhost:8080/",
          "height": 299
        },
        "outputId": "ec89590f-f43f-4615-edff-b6270f153b27"
      },
      "cell_type": "code",
      "source": [
        "train[\"2011-03-01\":\"2011-03-21\"].total.plot(figsize=(20,4))"
      ],
      "execution_count": 25,
      "outputs": [
        {
          "output_type": "execute_result",
          "data": {
            "text/plain": [
              "<matplotlib.axes._subplots.AxesSubplot at 0x7ff5dcb57780>"
            ]
          },
          "metadata": {
            "tags": []
          },
          "execution_count": 25
        },
        {
          "output_type": "display_data",
          "data": {
            "image/png": "[encoded data removed]",
            "text/plain": [
              "<matplotlib.figure.Figure at 0x7ff5dcb77dd8>"
            ]
          },
          "metadata": {
            "tags": []
          }
        }
      ]
    },
    {
      "metadata": {
        "id": "hT5xcUM96Dxa",
        "colab_type": "text"
      },
      "cell_type": "markdown",
      "source": [
        "Different behavior on weekdays and weekends:\n",
        "* 2 peak on weekdays: morning and afternoon\n",
        "* 1 peak on weekends in the middle of the day"
      ]
    },
    {
      "metadata": {
        "id": "U5NiD1iC6ND1",
        "colab_type": "code",
        "colab": {}
      },
      "cell_type": "code",
      "source": [
        ""
      ],
      "execution_count": 0,
      "outputs": []
    }
  ]
}